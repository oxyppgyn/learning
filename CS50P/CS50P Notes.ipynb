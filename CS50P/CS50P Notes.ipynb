{
 "cells": [
  {
   "attachments": {},
   "cell_type": "markdown",
   "metadata": {},
   "source": [
    "# Week 0: Functions & Variables"
   ]
  },
  {
   "attachments": {},
   "cell_type": "markdown",
   "metadata": {},
   "source": [
    "## `Print`"
   ]
  },
  {
   "cell_type": "code",
   "execution_count": 1,
   "metadata": {},
   "outputs": [
    {
     "name": "stdout",
     "output_type": "stream",
     "text": [
      "hello, world\n"
     ]
    }
   ],
   "source": [
    "print(\"hello, world\")"
   ]
  },
  {
   "attachments": {},
   "cell_type": "markdown",
   "metadata": {},
   "source": [
    "- When inputting text into `print`, you must use quotation marks (or apostrophes), as these denote that it is infact text.\n",
    "- Without quotes, the program assumes you are using something like a variable.\n",
    "- This usage of quotes continues into other functions. "
   ]
  },
  {
   "attachments": {},
   "cell_type": "markdown",
   "metadata": {},
   "source": [
    "## `Input`"
   ]
  },
  {
   "cell_type": "code",
   "execution_count": 11,
   "metadata": {},
   "outputs": [
    {
     "name": "stdout",
     "output_type": "stream",
     "text": [
      "what's your name?\n",
      "Hello, Tanner\n"
     ]
    }
   ],
   "source": [
    "print(\"what's your name? \")\n",
    "input()\n",
    "print(\"Hello, Tanner\")"
   ]
  },
  {
   "attachments": {},
   "cell_type": "markdown",
   "metadata": {},
   "source": [
    "- `Input` creates a text box to respond to in the console. \n",
    "- `Print` acts as both a prompt and response in this case to what is in the text box.\n",
    "- An extra space is included after \"what's your name?\" for aesthetics, as it creates a space between the printed text and input location (though this is not shown in Jypter, but will be apparent in things like Python VSCode)."
   ]
  },
  {
   "cell_type": "code",
   "execution_count": 13,
   "metadata": {},
   "outputs": [
    {
     "name": "stdout",
     "output_type": "stream",
     "text": [
      "Hello, Tanner\n"
     ]
    }
   ],
   "source": [
    "input(\"What's your name? \")\n",
    "print(\"Hello, Tanner\")"
   ]
  },
  {
   "attachments": {},
   "cell_type": "markdown",
   "metadata": {},
   "source": [
    "- The syntax of `input` allows for a prompt to be included within it. This allows us to 'combine' `input` and `print` in this example. \n",
    "- An issue with the above code is that the response will always say \"Hello, Tanner\" regardless of what is used for the input."
   ]
  },
  {
   "attachments": {},
   "cell_type": "markdown",
   "metadata": {},
   "source": [
    "## Variables & Return Values\n",
    "- Variables allow us to store data for use somewhere else. In this example, the value used as the input is stored as the variable `name`. \n",
    "- A single equals sign in Python (and many other languages) is the 'assignment operator', meaning that it is used to assign values to operators. "
   ]
  },
  {
   "cell_type": "code",
   "execution_count": 27,
   "metadata": {},
   "outputs": [
    {
     "name": "stdout",
     "output_type": "stream",
     "text": [
      "Hello,\n",
      "Tanner\n"
     ]
    }
   ],
   "source": [
    "name = input(\"What's your name? \") \n",
    "print(\"Hello,\")\n",
    "print(name)"
   ]
  },
  {
   "attachments": {},
   "cell_type": "markdown",
   "metadata": {},
   "source": [
    "This code has the issue of showing \"Hello\" and `name` on different lines. This can be fixed in one of three ways: changing the end parameter of `print`, using a comma to seperate arguements, or combining both prints into one argument with a plus. "
   ]
  },
  {
   "cell_type": "code",
   "execution_count": 31,
   "metadata": {},
   "outputs": [
    {
     "name": "stdout",
     "output_type": "stream",
     "text": [
      "Hello, Tanner\n"
     ]
    }
   ],
   "source": [
    "name = input(\"What's your name? \") \n",
    "print(\"Hello,\", end=\" \")\n",
    "print(name)"
   ]
  },
  {
   "attachments": {},
   "cell_type": "markdown",
   "metadata": {},
   "source": [
    "Here, the end parameter has been changed from a new line `(end='\\n')` to a space `(end=\" \")`. You can also include the space with `print(\"Hello\")`. "
   ]
  },
  {
   "cell_type": "code",
   "execution_count": 23,
   "metadata": {},
   "outputs": [
    {
     "name": "stdout",
     "output_type": "stream",
     "text": [
      "Hello, Tanner\n"
     ]
    }
   ],
   "source": [
    "name = input(\"What's your name? \") \n",
    "print(\"Hello,\",name)"
   ]
  },
  {
   "cell_type": "code",
   "execution_count": 25,
   "metadata": {},
   "outputs": [
    {
     "name": "stdout",
     "output_type": "stream",
     "text": [
      "Hello, Tanner\n"
     ]
    }
   ],
   "source": [
    "name = input(\"What's your name? \")\n",
    "print(\"Hello, \" + name)"
   ]
  },
  {
   "attachments": {},
   "cell_type": "markdown",
   "metadata": {},
   "source": [
    "## Strings (`str`)"
   ]
  },
  {
   "attachments": {},
   "cell_type": "markdown",
   "metadata": {},
   "source": [
    "### Format String (f-Strings)"
   ]
  },
  {
   "attachments": {},
   "cell_type": "markdown",
   "metadata": {},
   "source": [
    "Format strings denote to the program that some type of special formatting is required for the string. Variables are denoted with braces (`{}`); this allows them to be included within a print string without special arguments or changing other parameters. "
   ]
  },
  {
   "cell_type": "code",
   "execution_count": 36,
   "metadata": {},
   "outputs": [
    {
     "name": "stdout",
     "output_type": "stream",
     "text": [
      "hello, Tanner\n"
     ]
    }
   ],
   "source": [
    "name = input(\"What's your name? \")\n",
    "print(f\"Hello, {name}\")"
   ]
  },
  {
   "attachments": {},
   "cell_type": "markdown",
   "metadata": {},
   "source": [
    "### String Functions\n",
    "Strings are a data type with a lot of utility in Python. Various functions can be used with strings using the format `string.FUNCTION()`. "
   ]
  },
  {
   "cell_type": "code",
   "execution_count": 3,
   "metadata": {},
   "outputs": [
    {
     "name": "stdout",
     "output_type": "stream",
     "text": [
      "Hello, Tanner\n"
     ]
    }
   ],
   "source": [
    "name = input(\"What's your name? \")\n",
    "name = name.strip()\n",
    "print(f\"Hello, {name}\")"
   ]
  },
  {
   "attachments": {},
   "cell_type": "markdown",
   "metadata": {},
   "source": [
    "In this example, `strip` is a function that removes leading and trailing spaces from text strings. To use it with the variable `name`, you write the function as `name.strip()`. Since there are no arguements, nothing is put within the parenthesis. The `strip` function has to be assigned to the variable, so that is why the second line includes equals as an operator. \n",
    "\n",
    "Python also has other functions like `strip` in the form of `lstrip` and `rstrip`, which remove spaces from only their respective side of the text, rather than both sides. "
   ]
  },
  {
   "cell_type": "code",
   "execution_count": 5,
   "metadata": {},
   "outputs": [
    {
     "name": "stdout",
     "output_type": "stream",
     "text": [
      "Hello, Tanner\n"
     ]
    }
   ],
   "source": [
    "name = input(\"What's your name? \")\n",
    "name = name.strip()\n",
    "name = name.capitalize()\n",
    "print(f\"Hello, {name}\")"
   ]
  },
  {
   "attachments": {},
   "cell_type": "markdown",
   "metadata": {},
   "source": [
    "Adding `name.captialize` captailizes the first character of the input, creating proper capitalization. This does not account for last names or multi-part names. "
   ]
  },
  {
   "cell_type": "code",
   "execution_count": 19,
   "metadata": {},
   "outputs": [
    {
     "name": "stdout",
     "output_type": "stream",
     "text": [
      "Hello, Tanner Lastname\n"
     ]
    }
   ],
   "source": [
    "name = input(\"What's your name? \")\n",
    "name = name.strip()\n",
    "name = name.title()\n",
    "print(f\"Hello, {name}\")"
   ]
  },
  {
   "attachments": {},
   "cell_type": "markdown",
   "metadata": {},
   "source": [
    "Title can be used as an alternative to capitalize. Title formats every word in the string with proper capitalization (as if it were being used in a book, article, or other title). "
   ]
  },
  {
   "cell_type": "code",
   "execution_count": 17,
   "metadata": {},
   "outputs": [
    {
     "name": "stdout",
     "output_type": "stream",
     "text": [
      "Hello, Tanner Lastname\n"
     ]
    }
   ],
   "source": [
    "name = input(\"What's your name? \")\n",
    "name = name.strip().title()\n",
    "print(f\"Hello, {name}\")"
   ]
  },
  {
   "cell_type": "code",
   "execution_count": 18,
   "metadata": {},
   "outputs": [
    {
     "name": "stdout",
     "output_type": "stream",
     "text": [
      "Hello, Tanner Lastname\n"
     ]
    }
   ],
   "source": [
    "name = input(\"What's your name? \").strip().title()\n",
    "print(f\"Hello, {name}\")"
   ]
  },
  {
   "attachments": {},
   "cell_type": "markdown",
   "metadata": {},
   "source": [
    "String functions can be used together (or chained) by adding the next function to the end with a period. \n",
    "\n",
    "While it saves on line space to combine functions, there are times where it may be beneficial to seperate functions. For example, if the line becomes too long it may be unreadable and using comments may be harder for explaining the process."
   ]
  },
  {
   "cell_type": "code",
   "execution_count": 11,
   "metadata": {},
   "outputs": [
    {
     "name": "stdout",
     "output_type": "stream",
     "text": [
      "Hello, Tanner\n"
     ]
    }
   ],
   "source": [
    "name = input(\"What's your name? \").strip().title()\n",
    "first, last = name.split(\" \")\n",
    "print(f\"Hello, {first}\")"
   ]
  },
  {
   "attachments": {},
   "cell_type": "markdown",
   "metadata": {},
   "source": [
    "`split` can split a string along a character in the string. In this case, splitting on a space allows us to seperate first and last names. Because this creates two strings based on the split, we assign these to two variables: `first` & `last`. "
   ]
  },
  {
   "attachments": {},
   "cell_type": "markdown",
   "metadata": {},
   "source": [
    "## `int` & Operators\n",
    "Intergers in Python utilize the same operators to do calculations as many other programs (such as Microsoft Excel). \n",
    "\n",
    "These four operators work the way they are expected to: `+`, `-`, `*`, and `/`. There is a fifth main operator in the form of `%` which is utilized for finding the remainder from division. \n",
    "\n",
    "Mathematical operations can be done directly in Python without any functions, but functions are often involved when doing anyone other than basic calculations. "
   ]
  },
  {
   "cell_type": "code",
   "execution_count": 21,
   "metadata": {},
   "outputs": [
    {
     "name": "stdout",
     "output_type": "stream",
     "text": [
      "3\n"
     ]
    }
   ],
   "source": [
    "x = 1\n",
    "y = 2\n",
    "z = x + y\n",
    "print(z)"
   ]
  },
  {
   "attachments": {},
   "cell_type": "markdown",
   "metadata": {},
   "source": [
    "Intergers can be assigned to variables and used in functions."
   ]
  },
  {
   "cell_type": "code",
   "execution_count": 22,
   "metadata": {},
   "outputs": [
    {
     "name": "stdout",
     "output_type": "stream",
     "text": [
      "12\n"
     ]
    }
   ],
   "source": [
    "x = input(\"What's x? \")\n",
    "y = input(\"what's y? \")\n",
    "z = x + y\n",
    "print(z)\n",
    "\n",
    "# input values are x = 1, y = 2"
   ]
  },
  {
   "attachments": {},
   "cell_type": "markdown",
   "metadata": {},
   "source": [
    "You can use `input` to allow user inputs to be used for calculations. In the above code, it seems like this should work, but instead the result is the values of `x` and `y` displayed next to eachother with not operations being done. This is due to the plus operator being used as if the values were text strings and simply concatenating them. "
   ]
  },
  {
   "cell_type": "code",
   "execution_count": 25,
   "metadata": {},
   "outputs": [
    {
     "name": "stdout",
     "output_type": "stream",
     "text": [
      "3\n"
     ]
    }
   ],
   "source": [
    "x = input(\"What's x? \")\n",
    "y = input(\"what's y? \")\n",
    "z = int(x) + int(y)\n",
    "print(z)\n",
    "\n",
    "# input values are x = 1, y = 2"
   ]
  },
  {
   "attachments": {},
   "cell_type": "markdown",
   "metadata": {},
   "source": [
    "Using `int` on the `x` and `y` variables converts their values to the interger form, allowing the program to recognize them as numbers. "
   ]
  },
  {
   "cell_type": "code",
   "execution_count": 26,
   "metadata": {},
   "outputs": [
    {
     "name": "stdout",
     "output_type": "stream",
     "text": [
      "3\n"
     ]
    }
   ],
   "source": [
    "x = input(\"What's x? \")\n",
    "y = input(\"what's y? \")\n",
    "print(int(x) + int(y))\n",
    "\n",
    "# input values are x = 1, y = 2"
   ]
  },
  {
   "attachments": {},
   "cell_type": "markdown",
   "metadata": {},
   "source": [
    "Due to the way the variable `z` is being used, it is redundant. Instead of setting the result of the addition operation to `z` then printing it, we can just set `print` to show the addition operation result. \n",
    "\n",
    "`int` can also be moved to the first two lines around the `input` functions, rather than within the last print line. This could be useful if more operations need to happen before the print line. "
   ]
  },
  {
   "cell_type": "code",
   "execution_count": 32,
   "metadata": {},
   "outputs": [
    {
     "name": "stdout",
     "output_type": "stream",
     "text": [
      "3\n"
     ]
    }
   ],
   "source": [
    "print(int(input(\"What's x? \")) + int(input(\"What's y? \")))"
   ]
  },
  {
   "attachments": {},
   "cell_type": "markdown",
   "metadata": {},
   "source": [
    "This code can all be condensed into one line by nesting the functions used. Nesting like this can reduce the space used, but makes it harder to read and increases the chance of making error (such as forgetting parenthesis)."
   ]
  },
  {
   "attachments": {},
   "cell_type": "markdown",
   "metadata": {},
   "source": [
    "## Float\n",
    "Floats are similar to intergers in that they are numerical, but floats also can have decimal places or be fractional. "
   ]
  },
  {
   "cell_type": "code",
   "execution_count": 33,
   "metadata": {},
   "outputs": [
    {
     "name": "stdout",
     "output_type": "stream",
     "text": [
      "6.5\n"
     ]
    }
   ],
   "source": [
    "x = input(\"What's x? \")\n",
    "y = input(\"what's y? \")\n",
    "print(float(x) + float(y))\n",
    "\n",
    "# input values are x = 2.3, y = 4.2"
   ]
  },
  {
   "attachments": {},
   "cell_type": "markdown",
   "metadata": {},
   "source": [
    "Replacing `int` with `float` formats the variables as floats. "
   ]
  },
  {
   "cell_type": "code",
   "execution_count": 34,
   "metadata": {},
   "outputs": [
    {
     "name": "stdout",
     "output_type": "stream",
     "text": [
      "6\n"
     ]
    }
   ],
   "source": [
    "x = input(\"What's x? \")\n",
    "y = input(\"what's y? \")\n",
    "print(round(float(x) + float(y)))\n",
    "\n",
    "# input values are x = 2.3, y = 4.2"
   ]
  },
  {
   "attachments": {},
   "cell_type": "markdown",
   "metadata": {},
   "source": [
    "If you want a value to be rounded, you can use `round`. This automatically rounds to the ones place but the number of digits rounded to can also be set."
   ]
  },
  {
   "cell_type": "code",
   "execution_count": 37,
   "metadata": {},
   "outputs": [
    {
     "name": "stdout",
     "output_type": "stream",
     "text": [
      "6.6\n"
     ]
    }
   ],
   "source": [
    "x = input(\"What's x? \")\n",
    "y = input(\"what's y? \")\n",
    "print(round(float(x) + float(y), 1))\n",
    "\n",
    "# input values are x = 2.38, y = 4.21"
   ]
  },
  {
   "attachments": {},
   "cell_type": "markdown",
   "metadata": {},
   "source": [
    "Here, the rounding has been set to give one decimal place but adding `,1` to the `round` function. This is a part of its syntax that designates the number of places. "
   ]
  },
  {
   "cell_type": "code",
   "execution_count": 44,
   "metadata": {},
   "outputs": [
    {
     "name": "stdout",
     "output_type": "stream",
     "text": [
      "1,000.0\n"
     ]
    }
   ],
   "source": [
    "x = input(\"What's x? \")\n",
    "y = input(\"what's y? \")\n",
    "z = float(x) + float(y)\n",
    "print(f\"{z:,}\")\n",
    "\n",
    "# input values are x = 999, y = 1"
   ]
  },
  {
   "attachments": {},
   "cell_type": "markdown",
   "metadata": {},
   "source": [
    "If you want to format a float or interger string to have a comma as a seperator (between thousands and hundreds place), you can use a format string. `:,` is used as a format specifier. `:,` specifically means that commas get used as seperators, but other uses of the format specifier also exist. "
   ]
  },
  {
   "cell_type": "code",
   "execution_count": 46,
   "metadata": {},
   "outputs": [
    {
     "name": "stdout",
     "output_type": "stream",
     "text": [
      "0.6666666666666666\n"
     ]
    }
   ],
   "source": [
    "x = float(input(\"What's x? \"))\n",
    "y = float(input(\"what's y? \"))\n",
    "z = x / y\n",
    "print(z)\n",
    "\n",
    "#input values are x = 2, y = 3"
   ]
  },
  {
   "attachments": {},
   "cell_type": "markdown",
   "metadata": {},
   "source": [
    "Floats allow us to use division on numbers that do not share a common factor. With division, you will often end up with endless decimals. There is a limit to how far Python can calculate, so after so many digets, decimals will stop."
   ]
  },
  {
   "cell_type": "code",
   "execution_count": 48,
   "metadata": {},
   "outputs": [
    {
     "name": "stdout",
     "output_type": "stream",
     "text": [
      "0.67\n"
     ]
    }
   ],
   "source": [
    "x = float(input(\"What's x? \"))\n",
    "y = float(input(\"what's y? \"))\n",
    "z = round(x / y, 2)\n",
    "print(z)\n",
    "\n",
    "#input values are x = 2, y = 3"
   ]
  },
  {
   "cell_type": "code",
   "execution_count": 51,
   "metadata": {},
   "outputs": [
    {
     "name": "stdout",
     "output_type": "stream",
     "text": [
      "0.67\n"
     ]
    }
   ],
   "source": [
    "x = float(input(\"What's x? \"))\n",
    "y = float(input(\"what's y? \"))\n",
    "z = x / y\n",
    "print(f\"{z:.2f}\")\n",
    "\n",
    "#input values are x = 2, y = 3"
   ]
  },
  {
   "attachments": {},
   "cell_type": "markdown",
   "metadata": {},
   "source": [
    "Using `.2f` with the format specifier determines the number of decimal place values, with the number used corresponding to the number of places. This can be used as an alternative to `round`. "
   ]
  },
  {
   "attachments": {},
   "cell_type": "markdown",
   "metadata": {},
   "source": [
    "## Defining Functions (def)\n",
    "Defining a function allows users to write their own functions from those already in Python. This is done by using `def FUNCTION():` then indenting the code you want to be part of the new function. Any code indented after the first line is recognized as being what that function will be."
   ]
  },
  {
   "cell_type": "code",
   "execution_count": 54,
   "metadata": {},
   "outputs": [
    {
     "name": "stdout",
     "output_type": "stream",
     "text": [
      "Hello, Tanner\n"
     ]
    }
   ],
   "source": [
    "def hello(to):\n",
    "    print(\"Hello,\", to)\n",
    "name = input(\"What's your name? \")\n",
    "hello(name)"
   ]
  },
  {
   "attachments": {},
   "cell_type": "markdown",
   "metadata": {},
   "source": [
    "In the above code, `hello` is defined as a function that prints 'Hello' and has the argument `to` In its definition, the argument appears after 'Hello', so when it is later run as `hello(name)`, the `name` variable takes up the `to` arguement spot, meaning it will be printed after 'Hello'.\n",
    "\n",
    "Essentially, `name` gets copied to the new variable of `to`. "
   ]
  },
  {
   "cell_type": "code",
   "execution_count": 60,
   "metadata": {},
   "outputs": [
    {
     "name": "stdout",
     "output_type": "stream",
     "text": [
      "Hello, Tanner\n",
      "Hello, World\n"
     ]
    }
   ],
   "source": [
    "def hello(to=\"World\"):\n",
    "    print(\"Hello,\", to)\n",
    "name = input(\"What's your name? \")\n",
    "hello(name)\n",
    "hello()"
   ]
  },
  {
   "attachments": {},
   "cell_type": "markdown",
   "metadata": {},
   "source": [
    "\n",
    "Assigning an argument a value gives it a default value. In this case, `hello` will return 'Hello, World' if name is not used for an arguement. "
   ]
  },
  {
   "attachments": {},
   "cell_type": "markdown",
   "metadata": {},
   "source": [
    "Python can only use the code in the lines above where it is currently. This means that if you plan on using multiple defined functions together (such as nesting them) the function must already exist at that point in the code to be used. \n",
    "\n",
    "One way to get around this is to call functions in the order you need them, such using a function that another is nested in on its own with no arguments before actually using it. "
   ]
  },
  {
   "attachments": {},
   "cell_type": "markdown",
   "metadata": {},
   "source": [
    "## `return`"
   ]
  },
  {
   "cell_type": "code",
   "execution_count": 65,
   "metadata": {},
   "outputs": [
    {
     "name": "stdout",
     "output_type": "stream",
     "text": [
      "x squared is 4\n"
     ]
    }
   ],
   "source": [
    "def main():\n",
    "    x = int(input(\"What's x? \"))\n",
    "    print(\"x squared is\", square(x))\n",
    "def square(n):\n",
    "    return n * n\n",
    "main()\n",
    "\n",
    "# input is 2"
   ]
  },
  {
   "cell_type": "code",
   "execution_count": 70,
   "metadata": {},
   "outputs": [
    {
     "name": "stdout",
     "output_type": "stream",
     "text": [
      "x squared is 4\n"
     ]
    }
   ],
   "source": [
    "def main():\n",
    "    x = int(input(\"What's x? \"))\n",
    "    print(\"x squared is\", square(x))\n",
    "def square(n):\n",
    "    return n ** 2\n",
    "main()\n",
    "\n",
    "# input is 2"
   ]
  },
  {
   "cell_type": "code",
   "execution_count": 68,
   "metadata": {},
   "outputs": [
    {
     "name": "stdout",
     "output_type": "stream",
     "text": [
      "x squared is 4\n"
     ]
    }
   ],
   "source": [
    "def main():\n",
    "    x = int(input(\"What's x? \"))\n",
    "    print(\"x squared is\", square(x))\n",
    "def square(n):\n",
    "    return pow(n, 2)\n",
    "main()\n",
    "\n",
    "# input is 2"
   ]
  },
  {
   "attachments": {},
   "cell_type": "markdown",
   "metadata": {},
   "source": [
    "Creating a square calculator can be done in three ways. You can muliply a number by itself using `n * n`, using exponents with `n ** 2` (where 2 is the actual exponent), or with the `pow` function as `pow(n, 2)`. "
   ]
  },
  {
   "attachments": {},
   "cell_type": "markdown",
   "metadata": {},
   "source": [
    "## Comments\n",
    "- Comments allow us to explain what the code is actually doing. This is denoted in the code with hash marks (`#`).\n",
    "- The number of hash marks you can use together is basically limitless. You can use multiple hashmarks together to create levels to your comments or show different lines of them.\n",
    "- Using two sets of three quotation marks together (`\"\"\"`) also creates an area where anything typed is considered a comment. This is expecially useful if you need a large block of comments and don't want to keep using hashmarks. \n",
    "- Comments are ignored when code is executed.\n",
    "- Comments can also be useful as a to-do list if you are currently working on a code.\n",
    "\n",
    "Personal Preference: Put a space between # and your text to improve readability, though this is not required. "
   ]
  },
  {
   "cell_type": "code",
   "execution_count": null,
   "metadata": {},
   "outputs": [],
   "source": [
    "#Examples:\n",
    "\n",
    "#Prints 'Hello World!'\n",
    "print(\"Hello World!\")\n",
    "\n",
    "print(\"Hello World!\") #Prints 'Hello World!'\n",
    "\n",
    "##Prints 'Hello World!'\n",
    "print(\"Hello World!\")\n",
    "\n",
    "#How to use print function\n",
    "##Prints 'Hello World!'\n",
    "print(\"Hello World!\")\n",
    "\n",
    "\"\"\"\n",
    "How to use print function\n",
    "Prints 'Hello World!'\n",
    "\"\"\"\n",
    "print(\"Hello World!\")\n",
    "\n",
    "\"\"\" How to use print function\n",
    "Prints 'Hello World!' \"\"\"\n",
    "print(\"Hello World!\")"
   ]
  },
  {
   "attachments": {},
   "cell_type": "markdown",
   "metadata": {},
   "source": [
    "## Bugs"
   ]
  },
  {
   "attachments": {},
   "cell_type": "markdown",
   "metadata": {},
   "source": [
    "Bugs can form from syntax errors, differences in the way the program expects code to be written and how you've written it. "
   ]
  },
  {
   "cell_type": "code",
   "execution_count": null,
   "metadata": {},
   "outputs": [],
   "source": [
    "# Example:\n",
    "print(hello,world\n",
    "\n",
    "# This code does not run and returns: '(' was not closed."
   ]
  },
  {
   "attachments": {},
   "cell_type": "markdown",
   "metadata": {},
   "source": [
    "Many different types of bugs can occur with programming. For example, you may want to use text with quotations in `print`. This will fail unless you do one of two things:\n",
    "- Use a different symbol for for the print function (either `'` or `\"` depending on what you want to use in the text).\n",
    "- Use backslashes before the quotes to denote that the quotations in the text are not meant to be read as part of the function. \n",
    "    - Backslashes are known as 'escaping characters' and are interpreted differently than normal. i.e. they escape being run in the normal way. "
   ]
  },
  {
   "cell_type": "code",
   "execution_count": 34,
   "metadata": {},
   "outputs": [
    {
     "name": "stdout",
     "output_type": "stream",
     "text": [
      "hello \"friend\"\n"
     ]
    }
   ],
   "source": [
    "print('hello \"friend\"')"
   ]
  },
  {
   "cell_type": "code",
   "execution_count": 32,
   "metadata": {},
   "outputs": [
    {
     "name": "stdout",
     "output_type": "stream",
     "text": [
      "hello, \"friend\"\n"
     ]
    }
   ],
   "source": [
    "print(\"hello, \\\"friend\\\"\")"
   ]
  },
  {
   "attachments": {},
   "cell_type": "markdown",
   "metadata": {},
   "source": [
    "## Python Documentation\n",
    "Python has an official documentation system for all functions included within it. Documentation can be found at:\n",
    "- docs.python.org/3/library/functions.html\n",
    "\n",
    "### Reading Documentation\n",
    "Documentation is often very confusing to understand, so below is the official documentation for `print`, which will be explained. \n"
   ]
  },
  {
   "attachments": {},
   "cell_type": "markdown",
   "metadata": {},
   "source": [
    "`print(*objects, sep=' ', end='\\n', file=None, flush=False)`\n",
    "\n",
    "Everything within the parenthesis are the parameters of the function. \n",
    "\n",
    "Below are the meanings of some of the parts of this documentation:\n",
    "- `*objects` - function can take any number of objects (i.e. any number of text strings, including zero).\n",
    "- `sep=' '` - By default, a space is used as a seperator between arguements. \n",
    "    - This is why `print(\"Hello,\", name)` contained a space without it being included in the code. \n",
    "- `end='\\n'` - By default, this function ends every line by creating a new line.\n",
    "    - `\\n` means 'new line'.\n",
    "- `file=None` - By default, printed lines are output to the command line, not a file. A file can be used instead.\n",
    "- `flush=False` - SEE DOCUMENTATION, deals with system calls and writing to disk.\n"
   ]
  },
  {
   "attachments": {},
   "cell_type": "markdown",
   "metadata": {},
   "source": [
    "# Week 1: Conditionals"
   ]
  },
  {
   "attachments": {},
   "cell_type": "markdown",
   "metadata": {},
   "source": [
    "Conditionals or conditional statements are processes that allow coding programs to make decisions on what to do with data. \n",
    "\n",
    "The following are the common conditional symbols used in Python:\n",
    "\n",
    "`\\>` - Greater than\n",
    "\n",
    "`>=` - Greater than or equal to\n",
    "\n",
    "`<` - Lesser than\n",
    "\n",
    "`<=` - Lesser than or equal to\n",
    "\n",
    "`==` - Equal to\n",
    "\n",
    "`!=` - Not equal to\n",
    "\n",
    "- Note that `==` is the equal operator in python due to `=` being the assignment symbol. \n",
    "\n",
    "These are most often used with `if` and else. "
   ]
  },
  {
   "attachments": {},
   "cell_type": "markdown",
   "metadata": {},
   "source": [
    "## `if` and `else`"
   ]
  },
  {
   "cell_type": "code",
   "execution_count": 1,
   "metadata": {},
   "outputs": [
    {
     "name": "stdout",
     "output_type": "stream",
     "text": [
      "x and y are equal\n"
     ]
    }
   ],
   "source": [
    "x = int(input(\"What's x? \"))\n",
    "y = int(input(\"What's y? \"))\n",
    "\n",
    "if(x < y):\n",
    "    print(\"x is less than y\")\n",
    "if(x > y):\n",
    "    print(\"x is greater than y\")\n",
    "else:\n",
    "    print(\"x and y are equal\")"
   ]
  },
  {
   "attachments": {},
   "cell_type": "markdown",
   "metadata": {},
   "source": [
    "Above is a program that prints what the values of `x` and `y` are compared to eachother. Here, `if` and else are used to guide the program on what to do based on what conditions occur. The way this is written is very repetitive, but does work. This can impact the speed of the code as it has to go through each argument one by one, so there is a better way.\n",
    "\n",
    "Note: `if` can be used with or without parenthesis. I am using parenthesis because it helps me read the code and identify if as a function. This also makes it easy to see what its argument is. "
   ]
  },
  {
   "cell_type": "code",
   "execution_count": 3,
   "metadata": {},
   "outputs": [
    {
     "name": "stdout",
     "output_type": "stream",
     "text": [
      "x and y are equal\n"
     ]
    }
   ],
   "source": [
    "x = int(input(\"What's x? \"))\n",
    "y = int(input(\"What's y? \"))\n",
    "\n",
    "if(x < y):\n",
    "    print(\"x is less than y\")\n",
    "elif(x > y):\n",
    "    print(\"x is greater than y\")\n",
    "elif(x == y):\n",
    "    print(\"x and y are equal\")\n"
   ]
  },
  {
   "attachments": {},
   "cell_type": "markdown",
   "metadata": {},
   "source": [
    "`elif` combines `if` and `else` into one function. This code section must start with an `if` function, which will always be run, but if this `if` function is true, the `elif` functions will not be run. "
   ]
  },
  {
   "cell_type": "code",
   "execution_count": null,
   "metadata": {},
   "outputs": [],
   "source": [
    "x = int(input(\"What's x? \"))\n",
    "y = int(input(\"What's y? \"))\n",
    "\n",
    "if(x < y):\n",
    "    print(\"x is less than y\")\n",
    "elif(x > y):\n",
    "    print(\"x is greater than y\")\n",
    "else:\n",
    "    print(\"x and y are equal\")"
   ]
  },
  {
   "attachments": {},
   "cell_type": "markdown",
   "metadata": {},
   "source": [
    "The final `elif` function in this code can be replaced with and else statement. x and y are formatted as intergers so the only results we can have are the three above. Using else instead of `elif` removes one step from process, as instead of having three arguements, there are now only two but the `elif` argument can produce two different results. See CS50P Lec 1 (~17:00) for more details and graphical representations."
   ]
  },
  {
   "attachments": {},
   "cell_type": "markdown",
   "metadata": {},
   "source": [
    "## `or`"
   ]
  },
  {
   "cell_type": "code",
   "execution_count": 4,
   "metadata": {},
   "outputs": [
    {
     "name": "stdout",
     "output_type": "stream",
     "text": [
      "x is not equal to y\n"
     ]
    }
   ],
   "source": [
    "x = int(input(\"What's x? \"))\n",
    "y = int(input(\"What's y? \"))\n",
    "\n",
    "if(x < y) or (x > y):\n",
    "    print(\"x is not equal to y\")\n",
    "else:\n",
    "    print(\"x is equal to y\")"
   ]
  },
  {
   "attachments": {},
   "cell_type": "markdown",
   "metadata": {},
   "source": [
    "The above code checks if `x` and `y` are equal using `or`. `or` allows for multiple arguements to be passed into a function. Like `elif`, using `or` in the situation reduces the number of steps the script has. "
   ]
  },
  {
   "cell_type": "code",
   "execution_count": 6,
   "metadata": {},
   "outputs": [
    {
     "name": "stdout",
     "output_type": "stream",
     "text": [
      "x is not equal to y\n"
     ]
    }
   ],
   "source": [
    "x = int(input(\"What's x? \"))\n",
    "y = int(input(\"What's y? \"))\n",
    "\n",
    "if(x != y):\n",
    "    print(\"x is not equal to y\")\n",
    "else:\n",
    "    print(\"x is equal to y\")"
   ]
  },
  {
   "attachments": {},
   "cell_type": "markdown",
   "metadata": {},
   "source": [
    "The above code is the simplest form for this program. Only one step is needed."
   ]
  },
  {
   "attachments": {},
   "cell_type": "markdown",
   "metadata": {},
   "source": [
    "## `and`"
   ]
  },
  {
   "cell_type": "code",
   "execution_count": 8,
   "metadata": {},
   "outputs": [
    {
     "name": "stdout",
     "output_type": "stream",
     "text": [
      "Grade: A\n"
     ]
    }
   ],
   "source": [
    "score = int(input(\"Score: \"))\n",
    "\n",
    "if score >= 90 and score <= 100:\n",
    "    print(\"Grade: A\")\n",
    "elif score >= 80 and score < 90:\n",
    "    print(\"Grade: B\")\n",
    "elif score >= 70 and score < 80:\n",
    "    print(\"Grade: C\")\n",
    "elif score >= 60 and score < 70:\n",
    "    print(\"Grade: D\")\n",
    "else:\n",
    "    print(\"Grade: F\")"
   ]
  },
  {
   "attachments": {},
   "cell_type": "markdown",
   "metadata": {},
   "source": [
    "The above program calculates letter grades from percentage scores. and is used to add an argument to each function. and here is used to create a range that the scores can fall into for each letter grade. "
   ]
  },
  {
   "attachments": {},
   "cell_type": "markdown",
   "metadata": {},
   "source": [
    "## Simplifying `if`, `elif`, `else`, & `and`"
   ]
  },
  {
   "cell_type": "code",
   "execution_count": 1,
   "metadata": {},
   "outputs": [
    {
     "name": "stdout",
     "output_type": "stream",
     "text": [
      "Grade: A\n"
     ]
    }
   ],
   "source": [
    "score = int(input(\"Score: \"))\n",
    "\n",
    "if 90 <= score <= 100:\n",
    "    print(\"Grade: A\")\n",
    "elif 80 <= score < 90:\n",
    "    print(\"Grade: B\")\n",
    "elif 70 <= score < 80:\n",
    "    print(\"Grade: C\")\n",
    "elif 60 <= score < 70:\n",
    "    print(\"Grade: D\")\n",
    "else:\n",
    "    print(\"Grade: F\")"
   ]
  },
  {
   "cell_type": "markdown",
   "metadata": {},
   "source": [
    "This code combines the two checks for the value of score into one. This doesn't affect run time, but does increase readabilty and requires less space. The ability to combine operations like this with conditionals is unique to Python (not possibly in many other languages). "
   ]
  },
  {
   "cell_type": "code",
   "execution_count": 2,
   "metadata": {},
   "outputs": [
    {
     "name": "stdout",
     "output_type": "stream",
     "text": [
      "Grade: A\n"
     ]
    }
   ],
   "source": [
    "score = int(input(\"Score: \"))\n",
    "\n",
    "if 90 <= score:\n",
    "    print(\"Grade: A\")\n",
    "elif 80 <= score:\n",
    "    print(\"Grade: B\")\n",
    "elif 70 <= score:\n",
    "    print(\"Grade: C\")\n",
    "elif 60 <= score:\n",
    "    print(\"Grade: D\")\n",
    "else:\n",
    "    print(\"Grade: F\")"
   ]
  },
  {
   "cell_type": "markdown",
   "metadata": {},
   "source": [
    "Here, we've made the assumption that since the function before it has already checked if the value is within that value's range, we do not need to check if the value is less than that. If the we know the value is less than 90 already, we only need to check if its greater/equal to 80 and not if it's less than 90 a second time. "
   ]
  },
  {
   "cell_type": "markdown",
   "metadata": {},
   "source": [
    "## Modulo\n",
    "Modulo is the operator represented by percent signs (%). This is used to determine the remainder produced by a division operation. Modulo takes the same place as other operators and does division and results in the value of the remainder rather than the actual division value. "
   ]
  },
  {
   "cell_type": "code",
   "execution_count": 9,
   "metadata": {},
   "outputs": [
    {
     "name": "stdout",
     "output_type": "stream",
     "text": [
      "x is odd\n"
     ]
    }
   ],
   "source": [
    "x = int(input(\"What's x? \"))\n",
    "\n",
    "if(x % 2 == 0):\n",
    "    print(\"x is even\")\n",
    "else:\n",
    "    print(\"x is odd\")"
   ]
  },
  {
   "cell_type": "markdown",
   "metadata": {},
   "source": [
    "The result of using modulo with x will produce the remainder. If the remainder of a number is 0 then it is even, otherwise we know it is odd."
   ]
  },
  {
   "attachments": {},
   "cell_type": "markdown",
   "metadata": {},
   "source": [
    "## `bool` (booleans)\n",
    "Boolean values are the fourth type of value used in Python along with strings, intergers, and floats. Boolean values can only be `True` or `False` (always title case)."
   ]
  },
  {
   "cell_type": "code",
   "execution_count": 12,
   "metadata": {},
   "outputs": [
    {
     "name": "stdout",
     "output_type": "stream",
     "text": [
      "x is even\n"
     ]
    }
   ],
   "source": [
    "def even_odd():\n",
    "    x  = int(input(\"What's x? \"))\n",
    "    if is_even(x):\n",
    "       print(\"x is even\")\n",
    "    else:\n",
    "      print(\"x is odd\")\n",
    "\n",
    "def is_even(n):\n",
    "    if n % 2 == 0:\n",
    "        return True\n",
    "    else:\n",
    "        return False\n",
    "\n",
    "even_odd()"
   ]
  },
  {
   "attachments": {},
   "cell_type": "markdown",
   "metadata": {},
   "source": [
    "By setting the return values of `is_even` to `True` and `False`, it becomes a boolean function. When used with conditional statements, a value of `True` will cause the function to print \"x is even\" because True causes it to proceed and print, while `False` goes to the else statement. "
   ]
  },
  {
   "cell_type": "code",
   "execution_count": 13,
   "metadata": {},
   "outputs": [
    {
     "name": "stdout",
     "output_type": "stream",
     "text": [
      "x is odd\n"
     ]
    }
   ],
   "source": [
    "def even_odd():\n",
    "    x  = int(input(\"What's x? \"))\n",
    "    if is_even(x):\n",
    "       print(\"x is even\")\n",
    "    else:\n",
    "      print(\"x is odd\")\n",
    "\n",
    "\n",
    "\n",
    "def is_even(n):\n",
    "    return True if n % 2 == 0 else False\n",
    "    return (n % 2 == 0)\n",
    "\n",
    "even_odd()"
   ]
  },
  {
   "cell_type": "markdown",
   "metadata": {},
   "source": [
    "Operators used in this way can be collapsed into fewer lines. This is another 'pythonic' piece of code (meaning its pretty much exclusive to Python). Using this method matches English syntax more than the previous code section. "
   ]
  },
  {
   "cell_type": "code",
   "execution_count": null,
   "metadata": {},
   "outputs": [],
   "source": [
    "def even_odd():\n",
    "    x  = int(input(\"What's x? \"))\n",
    "    if is_even(x):\n",
    "       print(\"x is even\")\n",
    "    else:\n",
    "      print(\"x is odd\")\n",
    "\n",
    "\n",
    "\n",
    "def is_even(n):\n",
    "    return (n % 2 == 0)\n",
    "\n",
    "even_odd()"
   ]
  },
  {
   "attachments": {},
   "cell_type": "markdown",
   "metadata": {},
   "source": [
    "Boolean values often will not need an else statement because if the question you are asking in the code only has two answers and you've defined one answer as being `True` or `False`, the other is implied. Here we've also gotten rid of the True value. The operation `n % 2 == 0` will always result in a `True` or `False` value because it either is or isn't equal to 0. Thus, in this example neither value is needed. \n",
    "\n",
    "Minimizing code in this way can be helpful in reducing runtime and at times can be easier to read. Often, its a good idea to start with the more basic method and wittle it down if you aren't fully sure what you need to do with the code to make it work. The more basic if-else structure can also make it easier to read and understand for others who have little coding experience. \n"
   ]
  },
  {
   "attachments": {},
   "cell_type": "markdown",
   "metadata": {},
   "source": [
    "## `match`"
   ]
  },
  {
   "cell_type": "code",
   "execution_count": 14,
   "metadata": {},
   "outputs": [
    {
     "name": "stdout",
     "output_type": "stream",
     "text": [
      "Gryffindor\n"
     ]
    }
   ],
   "source": [
    "name = input(\"What's your name? \")\n",
    "\n",
    "if name == \"Harry\":\n",
    "    print(\"Gryffindor\")\n",
    "elif name == \"Hermione\":\n",
    "    print (\"Gryffindor\")\n",
    "elif name == \"Ron\":\n",
    "    print(\"Gryffindor\")\n",
    "elif name == \"Draco\":\n",
    "    print(\"Slytherin\")\n",
    "else:\n",
    "    print(\"Who?\")"
   ]
  },
  {
   "cell_type": "code",
   "execution_count": 16,
   "metadata": {},
   "outputs": [
    {
     "name": "stdout",
     "output_type": "stream",
     "text": [
      "Gryffindor\n"
     ]
    }
   ],
   "source": [
    "name = input(\"What's your name? \")\n",
    "\n",
    "if name == \"Harry\" or name == \"Hermione\" or name == \"Ron\":\n",
    "    print(\"Gryffindor\")\n",
    "elif name == \"Draco\":\n",
    "    print(\"Slytherin\")\n",
    "else:\n",
    "    print(\"Who?\")\n"
   ]
  },
  {
   "cell_type": "code",
   "execution_count": 1,
   "metadata": {},
   "outputs": [
    {
     "name": "stdout",
     "output_type": "stream",
     "text": [
      "Gryffindor\n"
     ]
    }
   ],
   "source": [
    "name = input(\"What's your name? \")\n",
    "\n",
    "match name: \n",
    "    case \"Harry\":\n",
    "        print(\"Gryffindor\")\n",
    "    case \"Hermione\":\n",
    "        print(\"Gryffindor\")\n",
    "    case \"Ron\":\n",
    "        print(\"Gryffindor\")\n",
    "    case \"Draco\":\n",
    "        print(\"Slytherin\")\n",
    "    case _:\n",
    "        print(\"Who?\")"
   ]
  },
  {
   "attachments": {},
   "cell_type": "markdown",
   "metadata": {},
   "source": [
    "Above are code sections that check the house different characters from Harry Potter are in. This includes Harry, Hermione, Ron, and Drace plus a result for unknown names. `if` and `or` can be used together to see if multiple values match the name variable, which is shown in the second code section. \n",
    "\n",
    "An alternative to using `if` and `elif` is the match and case statements. match signifies that the variable name should produce a specific result based on which case it matches. In the above code this ends up being longer than using combined if statements. "
   ]
  },
  {
   "cell_type": "code",
   "execution_count": 2,
   "metadata": {},
   "outputs": [
    {
     "name": "stdout",
     "output_type": "stream",
     "text": [
      "Gryffindor\n"
     ]
    }
   ],
   "source": [
    "name = input(\"What's your name? \")\n",
    "\n",
    "match name: \n",
    "    case \"Harry\" | \"Hermione\" | \"Ron\":\n",
    "        print(\"Gryffindor\")\n",
    "    case \"Draco\":\n",
    "        print(\"Slytherin\")\n",
    "    case _:\n",
    "        print(\"Who?\")"
   ]
  },
  {
   "attachments": {},
   "cell_type": "markdown",
   "metadata": {},
   "source": [
    "Here, the character `|` has been used to seperate different so they can be included in the same case. Now, it is a similar length to the if approach. "
   ]
  },
  {
   "attachments": {},
   "cell_type": "markdown",
   "metadata": {},
   "source": [
    "# Week 2: Loops\n",
    "Loops allow us to create code that works recursively and completes the same action multiple times without it being written `x` amount of times. "
   ]
  },
  {
   "attachments": {},
   "cell_type": "markdown",
   "metadata": {},
   "source": [
    "## `while`"
   ]
  },
  {
   "cell_type": "code",
   "execution_count": null,
   "metadata": {},
   "outputs": [],
   "source": [
    "i = 3\n",
    "\n",
    "while i != 0:\n",
    "    print(\"meow\")\n",
    "\n",
    "# don't actually run this"
   ]
  },
  {
   "cell_type": "code",
   "execution_count": 2,
   "metadata": {},
   "outputs": [
    {
     "name": "stdout",
     "output_type": "stream",
     "text": [
      "meow\n",
      "meow\n",
      "meow\n"
     ]
    }
   ],
   "source": [
    "i = 3\n",
    "\n",
    "while i != 0:\n",
    "    print(\"meow\")\n",
    "    i = i - 1"
   ]
  },
  {
   "attachments": {},
   "cell_type": "markdown",
   "metadata": {},
   "source": [
    "Here, we want to say \"meow\" multiple times. \n",
    "\n",
    "While is one way to create loops. In the first code section, we've set it to print \"meow\" as long as the variable `i` does not equal 0. Because there is no mechanism to change the value of `i`, it always remains at 3, causing an endless loop. These looks can be dangerous when programming because they need to be manually stopped and can slow down computer processes. In the second code section, we've added a part of the code that ends up decreasing the value of i each time the code is looped through, causing it to essentially count down. "
   ]
  },
  {
   "cell_type": "code",
   "execution_count": 6,
   "metadata": {},
   "outputs": [
    {
     "name": "stdout",
     "output_type": "stream",
     "text": [
      "meow\n",
      "meow\n",
      "meow\n"
     ]
    }
   ],
   "source": [
    "i = 0\n",
    "while i < 3:\n",
    "    print(\"meow\")\n",
    "    i = i + 1"
   ]
  },
  {
   "attachments": {},
   "cell_type": "markdown",
   "metadata": {},
   "source": [
    "A common convention in coding is counting from zero instead of to zero. This can have implications for other languages and some processes later down the line, so its a good idea to use this method instead. "
   ]
  },
  {
   "cell_type": "code",
   "execution_count": null,
   "metadata": {},
   "outputs": [],
   "source": [
    "i = 0\n",
    "while i < 3:\n",
    "    print(\"meow\")\n",
    "    i += 1"
   ]
  },
  {
   "attachments": {},
   "cell_type": "markdown",
   "metadata": {},
   "source": [
    "Because of how common using incriments is, the special syntax of `x += y` can be used instead of the normal `x = x + y`. This can also be done with the other operators. "
   ]
  },
  {
   "attachments": {},
   "cell_type": "markdown",
   "metadata": {},
   "source": [
    "## lists & `for`\n",
    "The for operator allows you to itterate over a list of items. Lists are a new datatype that is represented with brackets (`[]`)."
   ]
  },
  {
   "cell_type": "code",
   "execution_count": 5,
   "metadata": {},
   "outputs": [
    {
     "name": "stdout",
     "output_type": "stream",
     "text": [
      "meow\n",
      "meow\n",
      "meow\n"
     ]
    }
   ],
   "source": [
    "for i in [0,1,2]:\n",
    "    print(\"meow\")"
   ]
  },
  {
   "attachments": {},
   "cell_type": "markdown",
   "metadata": {},
   "source": [
    "Here, we are using the for operator to itterate through a list containing three numbers. Python automatically sets our variable to the value of the first item in the list, so in this instance it starts equal to 0. Each time the end of the this code section is reached, the for loop restarts, iterating to the next item in the list. "
   ]
  },
  {
   "cell_type": "code",
   "execution_count": 7,
   "metadata": {},
   "outputs": [
    {
     "name": "stdout",
     "output_type": "stream",
     "text": [
      "meow\n",
      "meow\n",
      "meow\n"
     ]
    }
   ],
   "source": [
    "for i in range(3):\n",
    "    print(\"meow\")"
   ]
  },
  {
   "attachments": {},
   "cell_type": "markdown",
   "metadata": {},
   "source": [
    "An issue with the previous code is that if you want to loop more than a few times, your code will increase in length. In an extreme case (thinking more than 100 times) this is redundant.\n",
    "\n",
    "The `range` function returns a list of values based on the number it is given. Starting from 0, it creates as many intergers as its arguement specifies. In the above example, we want three intergers to itterate through, so we use `range(3)`. "
   ]
  },
  {
   "attachments": {},
   "cell_type": "markdown",
   "metadata": {},
   "source": [
    "## Special uses and conventions of loops"
   ]
  },
  {
   "cell_type": "code",
   "execution_count": 9,
   "metadata": {},
   "outputs": [
    {
     "name": "stdout",
     "output_type": "stream",
     "text": [
      "meow\n",
      "meow\n",
      "meow\n"
     ]
    }
   ],
   "source": [
    "for _ in range(3):\n",
    "    print(\"meow\")"
   ]
  },
  {
   "attachments": {},
   "cell_type": "markdown",
   "metadata": {},
   "source": [
    "A convention used with Python is the use of `_` as a variable name for variables that are never used by you the human (i.e. are only there beacuse its required for a program function/feature). This is an easy way to show that while it is a variable, it's name doesn't matter. "
   ]
  },
  {
   "cell_type": "code",
   "execution_count": 16,
   "metadata": {},
   "outputs": [
    {
     "name": "stdout",
     "output_type": "stream",
     "text": [
      "meow\n",
      "meow\n",
      "meow\n"
     ]
    }
   ],
   "source": [
    "print(\"meow\\n\" * 3, end=\"\")"
   ]
  },
  {
   "attachments": {},
   "cell_type": "markdown",
   "metadata": {},
   "source": [
    "Another way to get an effect similar to a loop is to use multiplication with `print`. Text strings can be multiplied and when this is done, they are printed `x` amount of times (without spaces or new lines). To get this to display the same way as previous code sections, we must add `\\n` to print a new line, then to get rid of the extra line that comes from the third \"meow\", use `end=\"\"`. "
   ]
  },
  {
   "cell_type": "code",
   "execution_count": 1,
   "metadata": {},
   "outputs": [
    {
     "name": "stdout",
     "output_type": "stream",
     "text": [
      "meow\n",
      "meow\n",
      "meow\n"
     ]
    }
   ],
   "source": [
    "while True:\n",
    "    n = int(input(\"What is n? \"))\n",
    "    if n > 0:\n",
    "        break\n",
    "\n",
    "for _ in range(n):\n",
    "    print(\"meow\")\n"
   ]
  },
  {
   "attachments": {},
   "cell_type": "markdown",
   "metadata": {},
   "source": [
    "Here we're asking the user to input a value that will determine the number of times \"meow\" is printed. Because the number of times can only be positive, the loop allows us to re-prompt the user if they input a number that is 0 or below. The new `break` statement will end the loop. Similar to this, there is also a statement: `continue` that keeps a loop going. "
   ]
  },
  {
   "cell_type": "code",
   "execution_count": 11,
   "metadata": {},
   "outputs": [
    {
     "name": "stdout",
     "output_type": "stream",
     "text": [
      "meow\n",
      "meow\n"
     ]
    }
   ],
   "source": [
    "def main():\n",
    "    number = get_number()\n",
    "    meow(number)\n",
    "\n",
    "def get_number():\n",
    "    while True:\n",
    "        n = int(input(\"What's n? \"))\n",
    "        if n > 0:\n",
    "           return n\n",
    "\n",
    "def meow(n):\n",
    "    for _ in range(n):\n",
    "        print(\"meow\")\n",
    "\n",
    "main()"
   ]
  },
  {
   "attachments": {},
   "cell_type": "markdown",
   "metadata": {},
   "source": [
    "## Lists (cont.)"
   ]
  },
  {
   "cell_type": "code",
   "execution_count": 14,
   "metadata": {},
   "outputs": [
    {
     "name": "stdout",
     "output_type": "stream",
     "text": [
      "Harry\n"
     ]
    }
   ],
   "source": [
    "students = [\"Hermione\", \"Harry\", \"Ron\"]\n",
    "\n",
    "print(students[1])"
   ]
  },
  {
   "attachments": {},
   "cell_type": "markdown",
   "metadata": {},
   "source": [
    "When lists are assigned to a variable, you can call on specific values within that list based on its position. Here, we want to print the name \"Harry\" from the list so we write `students[1]` within the `print` function. Note that \"Harry\" is the second item in the list, but we used 1 to get to it. Lists in Python begin counting at 0, so 0 will be the location of the first item, not 1. "
   ]
  },
  {
   "cell_type": "code",
   "execution_count": 16,
   "metadata": {},
   "outputs": [
    {
     "name": "stdout",
     "output_type": "stream",
     "text": [
      "Hermione\n",
      "Harry\n",
      "Ron\n"
     ]
    }
   ],
   "source": [
    "students = [\"Hermione\", \"Harry\", \"Ron\"]\n",
    "\n",
    "for name in students:\n",
    "    print(name)"
   ]
  },
  {
   "attachments": {},
   "cell_type": "markdown",
   "metadata": {},
   "source": [
    "Calling values from a list can often become an issue when you don't know what the list has in it and/or the position of items in it. The above code itterates through the list and because there's no mechanism to stop it, it will print all of the names regardless of list length. "
   ]
  },
  {
   "attachments": {},
   "cell_type": "markdown",
   "metadata": {},
   "source": [
    "## `len`\n",
    "`len` is a function that returns the length of a list. "
   ]
  },
  {
   "cell_type": "code",
   "execution_count": 20,
   "metadata": {},
   "outputs": [
    {
     "name": "stdout",
     "output_type": "stream",
     "text": [
      "1 Hermione\n",
      "2 Harry\n",
      "3 Ron\n"
     ]
    }
   ],
   "source": [
    "students = [\"Hermione\", \"Harry\", \"Ron\"]\n",
    "for i in range(len(students)):\n",
    "    print(i + 1, students[i])"
   ]
  },
  {
   "attachments": {},
   "cell_type": "markdown",
   "metadata": {},
   "source": [
    "Using `len`, we can find the length of the list and by passing that value to range, run this loop the same amount of times as their are list items. We've also added the class ranks to this list (assuming the names are currently in that order) with `i + 1`. This will print the position associated with the name before it plus one to account for it starting at 0. "
   ]
  },
  {
   "cell_type": "code",
   "execution_count": 27,
   "metadata": {},
   "outputs": [
    {
     "name": "stdout",
     "output_type": "stream",
     "text": [
      "Hermione - Gryffindor\n",
      "Harry - Gryffindor\n",
      "Ron - Gryffindor\n",
      "Draco - Slytherin\n"
     ]
    }
   ],
   "source": [
    "students = [\"Hermione\", \"Harry\", \"Ron\", \"Draco\"]\n",
    "houses = [\"Gryffindor\", \"Gryffindor\", \"Gryffindor\", \"Slytherin\"]\n",
    "for i in range(len(students)):\n",
    "    print(students[i], \"-\", houses[i])"
   ]
  },
  {
   "attachments": {},
   "cell_type": "markdown",
   "metadata": {},
   "source": [
    "You can use multiple lists to create related values, such as the name and house of a student (or previously name and rank, thought that was with a different method). This is better done with dictionaries though. "
   ]
  },
  {
   "attachments": {},
   "cell_type": "markdown",
   "metadata": {},
   "source": [
    "## `dict` (dictionaries)\n",
    "Dictionaries allow us to associate different things to eachother. "
   ]
  },
  {
   "cell_type": "code",
   "execution_count": 36,
   "metadata": {},
   "outputs": [
    {
     "name": "stdout",
     "output_type": "stream",
     "text": [
      "Gryffindor\n"
     ]
    }
   ],
   "source": [
    "students = {\n",
    "    \"Hermione\": \"Gryffindor\", \n",
    "    \"Harry\": \"Gryffindor\",\n",
    "    \"Ron\": \"Gryffindor\",\n",
    "    \"Draco\": \"Slytherin\"} \n",
    "\n",
    "print(students[\"Hermione\"])"
   ]
  },
  {
   "attachments": {},
   "cell_type": "markdown",
   "metadata": {},
   "source": [
    "Here we've created a dictionary with the names and houses of four students. Dictionaries are similar to lists in that they can hold multiple values, but dictionaries can store multiple different groups of values. \n",
    "\n",
    "To access the contents of a dictionary, you use a value from it to call an associated value. In this case, we've used \"Hermione\" to call her house, Gryffindor. "
   ]
  },
  {
   "attachments": {},
   "cell_type": "markdown",
   "metadata": {},
   "source": [
    "# Time left off on video: wk 2, 51:52\n"
   ]
  }
 ],
 "metadata": {
  "kernelspec": {
   "display_name": "Python 3.9.2 64-bit",
   "language": "python",
   "name": "python3"
  },
  "language_info": {
   "codemirror_mode": {
    "name": "ipython",
    "version": 3
   },
   "file_extension": ".py",
   "mimetype": "text/x-python",
   "name": "python",
   "nbconvert_exporter": "python",
   "pygments_lexer": "ipython3",
   "version": "3.10.8"
  },
  "orig_nbformat": 4,
  "vscode": {
   "interpreter": {
    "hash": "916dbcbb3f70747c44a77c7bcd40155683ae19c65e1c03b4aa3499c5328201f1"
   }
  }
 },
 "nbformat": 4,
 "nbformat_minor": 2
}
